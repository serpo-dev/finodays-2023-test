import pandas as pd
from sklearn.model_selection import train_test_split
from sklearn.tree import DecisionTreeClassifier
from sklearn.metrics import roc_auc_score
from sklearn import tree
import matplotlib.pyplot as plt

data = pd.read_csv('credit_data.csv')  # Загрузка данных из файла
X = data.drop('default', axis=1)  # Матрица признаков
y = data['default']  # Целевая переменная
X_train, X_test, y_train, y_test = train_test_split(X, y, test_size=0.2, random_state=42)  # Разделение на обучающую и тестовую выборки

model = DecisionTreeClassifier()  # Создание модели решающего дерева
model.fit(X_train, y_train)  # Обучение модели на обучающей выборке

y_train_pred = model.predict_proba(X_train)[:, 1]  # Вероятности дефолта для обучающей выборки
y_test_pred = model.predict_proba(X_test)[:, 1]  # Вероятности дефолта для тестовой выборки
train_auc = roc_auc_score(y_train, y_train_pred)  # ROC AUC на обучающей выборке
test_auc = roc_auc_score(y_test, y_test_pred)  # ROC AUC на тестовой выборке

feature_importance = model.feature_importances_  # Важность признаков

plt.figure(figsize=(12, 8))
tree.plot_tree(model, feature_names=X.columns, filled=True)
plt.show()